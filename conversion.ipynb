{
 "cells": [
  {
   "cell_type": "code",
   "execution_count": null,
   "id": "556c609d",
   "metadata": {},
   "outputs": [
    {
     "ename": "SyntaxError",
     "evalue": "invalid syntax (2808680913.py, line 4)",
     "output_type": "error",
     "traceback": [
      "  \u001b[36mCell\u001b[39m\u001b[36m \u001b[39m\u001b[32mIn[9]\u001b[39m\u001b[32m, line 4\u001b[39m\n\u001b[31m    \u001b[39m\u001b[31mimport rainbow csv\u001b[39m\n                   ^\n\u001b[31mSyntaxError\u001b[39m\u001b[31m:\u001b[39m invalid syntax\n"
     ]
    }
   ],
   "source": [
    "import xml.etree.ElementTree as ET\n",
    "import csv\n",
    "import pandas as pd\n"
   ]
  },
  {
   "cell_type": "code",
   "execution_count": null,
   "id": "357f9e02",
   "metadata": {},
   "outputs": [
    {
     "ename": "FileNotFoundError",
     "evalue": "[Errno 2] No such file or directory: 'Bodenzustand_metadata.xml'",
     "output_type": "error",
     "traceback": [
      "\u001b[31m---------------------------------------------------------------------------\u001b[39m",
      "\u001b[31mFileNotFoundError\u001b[39m                         Traceback (most recent call last)",
      "\u001b[36mCell\u001b[39m\u001b[36m \u001b[39m\u001b[32mIn[11]\u001b[39m\u001b[32m, line 10\u001b[39m\n\u001b[32m      6\u001b[39m root = tree.getroot()\n\u001b[32m      8\u001b[39m \u001b[38;5;66;03m# Alle Namespaces sammeln\u001b[39;00m\n\u001b[32m      9\u001b[39m namespaces = \u001b[38;5;28mdict\u001b[39m([\n\u001b[32m---> \u001b[39m\u001b[32m10\u001b[39m     node \u001b[38;5;28;01mfor\u001b[39;00m _, node \u001b[38;5;129;01min\u001b[39;00m \u001b[43mET\u001b[49m\u001b[43m.\u001b[49m\u001b[43miterparse\u001b[49m\u001b[43m(\u001b[49m\u001b[33;43m'\u001b[39;49m\u001b[33;43mBodenzustand_metadata.xml\u001b[39;49m\u001b[33;43m'\u001b[39;49m\u001b[43m,\u001b[49m\u001b[43m \u001b[49m\u001b[43mevents\u001b[49m\u001b[43m=\u001b[49m\u001b[43m[\u001b[49m\u001b[33;43m'\u001b[39;49m\u001b[33;43mstart-ns\u001b[39;49m\u001b[33;43m'\u001b[39;49m\u001b[43m]\u001b[49m\u001b[43m)\u001b[49m\n\u001b[32m     11\u001b[39m ])\n\u001b[32m     13\u001b[39m \u001b[38;5;66;03m# Hilfsfunktion: rekursiv durch alle Elemente gehen und Inhalte extrahieren\u001b[39;00m\n\u001b[32m     14\u001b[39m \u001b[38;5;28;01mdef\u001b[39;00m\u001b[38;5;250m \u001b[39m\u001b[34mflatten_xml\u001b[39m(element, prefix=\u001b[33m'\u001b[39m\u001b[33m'\u001b[39m):\n",
      "\u001b[36mFile \u001b[39m\u001b[32m~/.pyenv/versions/3.11.3/lib/python3.11/xml/etree/ElementTree.py:1268\u001b[39m, in \u001b[36miterparse\u001b[39m\u001b[34m(source, events, parser)\u001b[39m\n\u001b[32m   1265\u001b[39m it.root = \u001b[38;5;28;01mNone\u001b[39;00m\n\u001b[32m   1266\u001b[39m \u001b[38;5;28;01mdel\u001b[39;00m iterator, IterParseIterator\n\u001b[32m-> \u001b[39m\u001b[32m1268\u001b[39m \u001b[38;5;28;43mnext\u001b[39;49m\u001b[43m(\u001b[49m\u001b[43mit\u001b[49m\u001b[43m)\u001b[49m\n\u001b[32m   1269\u001b[39m \u001b[38;5;28;01mreturn\u001b[39;00m it\n",
      "\u001b[36mFile \u001b[39m\u001b[32m~/.pyenv/versions/3.11.3/lib/python3.11/xml/etree/ElementTree.py:1245\u001b[39m, in \u001b[36miterparse.<locals>.iterator\u001b[39m\u001b[34m(source)\u001b[39m\n\u001b[32m   1243\u001b[39m \u001b[38;5;28;01mtry\u001b[39;00m:\n\u001b[32m   1244\u001b[39m     \u001b[38;5;28;01mif\u001b[39;00m \u001b[38;5;129;01mnot\u001b[39;00m \u001b[38;5;28mhasattr\u001b[39m(source, \u001b[33m\"\u001b[39m\u001b[33mread\u001b[39m\u001b[33m\"\u001b[39m):\n\u001b[32m-> \u001b[39m\u001b[32m1245\u001b[39m         source = \u001b[38;5;28;43mopen\u001b[39;49m\u001b[43m(\u001b[49m\u001b[43msource\u001b[49m\u001b[43m,\u001b[49m\u001b[43m \u001b[49m\u001b[33;43m\"\u001b[39;49m\u001b[33;43mrb\u001b[39;49m\u001b[33;43m\"\u001b[39;49m\u001b[43m)\u001b[49m\n\u001b[32m   1246\u001b[39m         close_source = \u001b[38;5;28;01mTrue\u001b[39;00m\n\u001b[32m   1247\u001b[39m     \u001b[38;5;28;01myield\u001b[39;00m \u001b[38;5;28;01mNone\u001b[39;00m\n",
      "\u001b[31mFileNotFoundError\u001b[39m: [Errno 2] No such file or directory: 'Bodenzustand_metadata.xml'"
     ]
    }
   ],
   "source": [
    "import xml.etree.ElementTree as ET\n",
    "import pandas as pd\n",
    "\n",
    "# XML-Datei einlesen\n",
    "tree = ET.parse('data/Bodenzustand_metadata.xml')  # Pfad ggf. anpassen\n",
    "root = tree.getroot()\n",
    "\n",
    "# Alle Namespaces sammeln\n",
    "namespaces = dict([\n",
    "    node for _, node in ET.iterparse('data/Bodenzustand_metadata.xml', events=['start-ns'])\n",
    "])\n",
    "\n",
    "# Hilfsfunktion: rekursiv durch alle Elemente gehen und Inhalte extrahieren\n",
    "def flatten_xml(element, prefix=''):\n",
    "    data = {}\n",
    "    for child in element:\n",
    "        tag = child.tag.split('}')[-1]  # Namespace entfernen\n",
    "        key = f\"{prefix}/{tag}\" if prefix else tag\n",
    "\n",
    "        # Wenn Element Text hat\n",
    "        if child.text and child.text.strip():\n",
    "            data[key] = child.text.strip()\n",
    "        else:\n",
    "            # Weiter rekursiv, wenn keine Textdaten\n",
    "            data.update(flatten_xml(child, key))\n",
    "    return data\n",
    "\n",
    "# Alle Daten extrahieren\n",
    "flattened_data = flatten_xml(root)\n",
    "\n",
    "# In DataFrame umwandeln\n",
    "df = pd.DataFrame([flattened_data])\n",
    "\n",
    "# CSV exportieren\n",
    "df.to_csv(\"Bodenzustand_metadata_flat.csv\", index=False, encoding='utf-8')\n",
    "print(\"CSV-Datei erfolgreich gespeichert.\")\n"
   ]
  },
  {
   "cell_type": "code",
   "execution_count": null,
   "id": "94f54f19",
   "metadata": {},
   "outputs": [],
   "source": []
  }
 ],
 "metadata": {
  "kernelspec": {
   "display_name": "venv",
   "language": "python",
   "name": "python3"
  },
  "language_info": {
   "codemirror_mode": {
    "name": "ipython",
    "version": 3
   },
   "file_extension": ".py",
   "mimetype": "text/x-python",
   "name": "python",
   "nbconvert_exporter": "python",
   "pygments_lexer": "ipython3",
   "version": "3.11.3"
  }
 },
 "nbformat": 4,
 "nbformat_minor": 5
}
