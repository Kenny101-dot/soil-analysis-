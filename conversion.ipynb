{
 "cells": [
  {
   "cell_type": "code",
   "execution_count": 1,
   "id": "556c609d",
   "metadata": {},
   "outputs": [],
   "source": [
    "import xml.etree.ElementTree as ET\n",
    "import csv"
   ]
  },
  {
   "cell_type": "code",
   "execution_count": null,
   "id": "357f9e02",
   "metadata": {},
   "outputs": [
    {
     "ename": "FileNotFoundError",
     "evalue": "[Errno 2] No such file or directory: 'data/beispiel.xml'",
     "output_type": "error",
     "traceback": [
      "\u001b[31m---------------------------------------------------------------------------\u001b[39m",
      "\u001b[31mFileNotFoundError\u001b[39m                         Traceback (most recent call last)",
      "\u001b[36mCell\u001b[39m\u001b[36m \u001b[39m\u001b[32mIn[2]\u001b[39m\u001b[32m, line 2\u001b[39m\n\u001b[32m      1\u001b[39m \u001b[38;5;66;03m# XML-Datei einlesen\u001b[39;00m\n\u001b[32m----> \u001b[39m\u001b[32m2\u001b[39m tree = \u001b[43mET\u001b[49m\u001b[43m.\u001b[49m\u001b[43mparse\u001b[49m\u001b[43m(\u001b[49m\u001b[33;43m'\u001b[39;49m\u001b[33;43mdata/beispiel.xml\u001b[39;49m\u001b[33;43m'\u001b[39;49m\u001b[43m)\u001b[49m\n\u001b[32m      3\u001b[39m root = tree.getroot()\n\u001b[32m      5\u001b[39m \u001b[38;5;66;03m# CSV-Ausgabe vorbereiten\u001b[39;00m\n",
      "\u001b[36mFile \u001b[39m\u001b[32m~/.pyenv/versions/3.11.3/lib/python3.11/xml/etree/ElementTree.py:1218\u001b[39m, in \u001b[36mparse\u001b[39m\u001b[34m(source, parser)\u001b[39m\n\u001b[32m   1209\u001b[39m \u001b[38;5;250m\u001b[39m\u001b[33;03m\"\"\"Parse XML document into element tree.\u001b[39;00m\n\u001b[32m   1210\u001b[39m \n\u001b[32m   1211\u001b[39m \u001b[33;03m*source* is a filename or file object containing XML data,\u001b[39;00m\n\u001b[32m   (...)\u001b[39m\u001b[32m   1215\u001b[39m \n\u001b[32m   1216\u001b[39m \u001b[33;03m\"\"\"\u001b[39;00m\n\u001b[32m   1217\u001b[39m tree = ElementTree()\n\u001b[32m-> \u001b[39m\u001b[32m1218\u001b[39m \u001b[43mtree\u001b[49m\u001b[43m.\u001b[49m\u001b[43mparse\u001b[49m\u001b[43m(\u001b[49m\u001b[43msource\u001b[49m\u001b[43m,\u001b[49m\u001b[43m \u001b[49m\u001b[43mparser\u001b[49m\u001b[43m)\u001b[49m\n\u001b[32m   1219\u001b[39m \u001b[38;5;28;01mreturn\u001b[39;00m tree\n",
      "\u001b[36mFile \u001b[39m\u001b[32m~/.pyenv/versions/3.11.3/lib/python3.11/xml/etree/ElementTree.py:569\u001b[39m, in \u001b[36mElementTree.parse\u001b[39m\u001b[34m(self, source, parser)\u001b[39m\n\u001b[32m    567\u001b[39m close_source = \u001b[38;5;28;01mFalse\u001b[39;00m\n\u001b[32m    568\u001b[39m \u001b[38;5;28;01mif\u001b[39;00m \u001b[38;5;129;01mnot\u001b[39;00m \u001b[38;5;28mhasattr\u001b[39m(source, \u001b[33m\"\u001b[39m\u001b[33mread\u001b[39m\u001b[33m\"\u001b[39m):\n\u001b[32m--> \u001b[39m\u001b[32m569\u001b[39m     source = \u001b[38;5;28;43mopen\u001b[39;49m\u001b[43m(\u001b[49m\u001b[43msource\u001b[49m\u001b[43m,\u001b[49m\u001b[43m \u001b[49m\u001b[33;43m\"\u001b[39;49m\u001b[33;43mrb\u001b[39;49m\u001b[33;43m\"\u001b[39;49m\u001b[43m)\u001b[49m\n\u001b[32m    570\u001b[39m     close_source = \u001b[38;5;28;01mTrue\u001b[39;00m\n\u001b[32m    571\u001b[39m \u001b[38;5;28;01mtry\u001b[39;00m:\n",
      "\u001b[31mFileNotFoundError\u001b[39m: [Errno 2] No such file or directory: 'data/beispiel.xml'"
     ]
    }
   ],
   "source": [
    "# XML-Datei einlesen\n",
    "tree = ET.parse('Bodenzustand_metadata.xml')\n",
    "root = tree.getroot()\n",
    "\n",
    "# CSV-Ausgabe vorbereiten\n",
    "with open('Bodenzustand_metadata.csv', 'w', newline='', encoding='utf-8') as f:\n",
    "    writer = csv.writer(f)\n",
    "    \n"
   ]
  },
  {
   "cell_type": "code",
   "execution_count": null,
   "id": "58e0b37a",
   "metadata": {},
   "outputs": [],
   "source": []
  }
 ],
 "metadata": {
  "kernelspec": {
   "display_name": "venv",
   "language": "python",
   "name": "python3"
  },
  "language_info": {
   "codemirror_mode": {
    "name": "ipython",
    "version": 3
   },
   "file_extension": ".py",
   "mimetype": "text/x-python",
   "name": "python",
   "nbconvert_exporter": "python",
   "pygments_lexer": "ipython3",
   "version": "3.11.3"
  }
 },
 "nbformat": 4,
 "nbformat_minor": 5
}
